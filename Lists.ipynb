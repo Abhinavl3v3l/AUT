{
 "cells": [
  {
   "cell_type": "markdown",
   "metadata": {},
   "source": [
    "## List\n",
    "\n",
    "1. List access\n",
    "2. List printing by understanding index positive and negative\n",
    "    2.1 Printing List Value\n",
    "    2.2 Printing List Values \n",
    "3. List length\n",
    "4. Deleting list values\n",
    "5. \n",
    "\n",
    "What it can hold\n",
    "How it can be accessed\n",
    "\n",
    "List a datastructure in python language which hold a list of value\n",
    " - List can hold multi-data structures "
   ]
  },
  {
   "cell_type": "code",
   "execution_count": 130,
   "metadata": {},
   "outputs": [],
   "source": [
    "list = [1, \"string\", True, ['Hello',[[[3]]]]]"
   ]
  },
  {
   "cell_type": "markdown",
   "metadata": {},
   "source": [
    "list index | 0 | 1 | 2 |3 |4\n",
    "---|---|---|---|---|---\n",
    "list |1|2|3|4|5\n",
    "list Index reversed | -5| -4| -3 | -2 | -1"
   ]
  },
  {
   "cell_type": "markdown",
   "metadata": {},
   "source": [
    "Access the List"
   ]
  },
  {
   "cell_type": "code",
   "execution_count": 131,
   "metadata": {},
   "outputs": [
    {
     "name": "stdout",
     "output_type": "stream",
     "text": [
      "[3]\n"
     ]
    }
   ],
   "source": [
    "print(list[3][1][0][0])\n",
    "\n"
   ]
  },
  {
   "cell_type": "code",
   "execution_count": 133,
   "metadata": {},
   "outputs": [
    {
     "name": "stdout",
     "output_type": "stream",
     "text": [
      "[1, 'string', True]\n"
     ]
    },
    {
     "data": {
      "text/plain": [
       "[1, 'string', True, ['Hello', [[[3]]]]]"
      ]
     },
     "execution_count": 133,
     "metadata": {},
     "output_type": "execute_result"
    }
   ],
   "source": [
    "print(list[0:3])\n",
    "list[:]"
   ]
  },
  {
   "cell_type": "code",
   "execution_count": null,
   "metadata": {},
   "outputs": [],
   "source": [
    "print(list[-1])"
   ]
  },
  {
   "cell_type": "code",
   "execution_count": null,
   "metadata": {},
   "outputs": [],
   "source": [
    "print(list[len(list)-2])"
   ]
  },
  {
   "cell_type": "code",
   "execution_count": null,
   "metadata": {},
   "outputs": [],
   "source": [
    "len(list)"
   ]
  },
  {
   "cell_type": "code",
   "execution_count": null,
   "metadata": {},
   "outputs": [],
   "source": [
    "# List Concatenation  an replication\n",
    "\n",
    "list =[1,2,3]\n",
    "list2 = ['A','B','C']\n",
    "\n",
    "list3 = list + list2\n",
    "list3 * 3"
   ]
  },
  {
   "cell_type": "code",
   "execution_count": null,
   "metadata": {},
   "outputs": [],
   "source": [
    "# Removing Values from Lists with del Statements\n",
    "'''\n",
    "    Comment\n",
    "''' \n",
    "# Syntax\n",
    "#del list_name[index_value]\n",
    "\n",
    "del list3[2]\n"
   ]
  },
  {
   "cell_type": "code",
   "execution_count": null,
   "metadata": {},
   "outputs": [],
   "source": [
    "# delete a list value\n",
    "#del list3[2]\n",
    "print(list3)\n",
    "\n",
    "#delete entire list\n",
    "#del list3\n",
    "\n",
    "#Should give an error\n",
    "list3"
   ]
  },
  {
   "cell_type": "code",
   "execution_count": null,
   "metadata": {},
   "outputs": [],
   "source": [
    "#Yet another way to access list\n",
    "for i in list3:\n",
    "    print(\"List3 contents\"+str(i))\n",
    "    \n",
    "for i in range(len(list3)):\n",
    "    print(\"List3 content \" + str(list3[i]) )"
   ]
  },
  {
   "cell_type": "markdown",
   "metadata": {},
   "source": [
    "### Methods and the index(), append(), insert(), remove(), sort() List Methods\n",
    "\n",
    " - index() - gives index\n",
    " - append() -  insert at end\n",
    " - insert(index_val, value) - insert at index the value\n",
    " - remove(val) - remove val given from list\n",
    " - sort() \n",
    "        - sort() and sort(reverse= True)\n",
    "        - you cannot sort lists that have both number values and string values in them, since Python doesn’t know how to compare these values\n",
    "        - if capital and  lower case string ten capital are given priority in capital\n",
    "        - spam.sort(key=str.lower), this causes the sort() method to treat all the items in the list as if they were lowercase without actually changing the values in the list.\n",
    "\n"
   ]
  },
  {
   "cell_type": "code",
   "execution_count": null,
   "metadata": {},
   "outputs": [],
   "source": [
    "list4 = [1,4,5,6,2]\n",
    "\n",
    "list4.append(0)\n",
    "print(list4)\n",
    "list4.remove(5)\n",
    "print(list4)\n",
    "list4.insert(2,10)\n",
    "print(list4)\n",
    "\n"
   ]
  },
  {
   "cell_type": "code",
   "execution_count": null,
   "metadata": {},
   "outputs": [],
   "source": [
    "\n",
    "list4.sort()\n",
    "print(list4)\n",
    "\n",
    "list4.sort(reverse=True)\n",
    "print(list4)"
   ]
  },
  {
   "cell_type": "code",
   "execution_count": null,
   "metadata": {},
   "outputs": [],
   "source": [
    "\n",
    "list5 = ['a','s','A','S']\n",
    "\n",
    "print(\"As can be seen S is give priority first \",list5)\n",
    "\n",
    "# spam.sort(key=str.lower)\n",
    "# this causes the sort() method to treat all the \n",
    "# items in the list as if they were lowercase without actually changing the values in the list.\n",
    "# if you double sort it output maybe different as upper case get priority first\n",
    "list5.sort(key=str.lower)\n",
    "print(list5)"
   ]
  },
  {
   "cell_type": "markdown",
   "metadata": {},
   "source": [
    "\n",
    ">Note : A string can be accessed as a list \n"
   ]
  },
  {
   "cell_type": "markdown",
   "metadata": {},
   "source": [
    "###  Mutable and Immutable data types\n",
    "\n",
    "List vs Tupples\n",
    "\n",
    "List is | Tupple is\n",
    "---|---\n",
    "Mutable | Immutable \n",
    "\n",
    "\n",
    "```\n",
    "tup = ()\n",
    "list = []\n",
    "```\n",
    "\n",
    "Immutable - data cannot be altered.`"
   ]
  },
  {
   "cell_type": "code",
   "execution_count": null,
   "metadata": {},
   "outputs": [],
   "source": [
    "lst = ['cat', 'dog', 5]\n",
    "print(type(lst))\n",
    "tuple(lst)\n",
    "print(type(lst))\n",
    "\n",
    "\n"
   ]
  },
  {
   "cell_type": "code",
   "execution_count": null,
   "metadata": {},
   "outputs": [],
   "source": [
    "\n",
    "# tup = ('cat', 'dog', 5)\n",
    "# print(type(tup))\n",
    "# list(tup)\n",
    "# print(type(tup))\n",
    "\n",
    "\n",
    "# list('hello')\n",
    "\n",
    "list(('cat', 'dog', 5)) #WTF"
   ]
  },
  {
   "cell_type": "markdown",
   "metadata": {},
   "source": [
    "### References \n",
    "\n",
    "When one variable A is assigned value of other variable B it depends on the value of B if A is assigned a copy or a reference.\n",
    "\n",
    "If B holds a list its a reference to original list hence any changes made to A  will reflect in B and vice versa\n",
    "\n",
    "If B hold an integer or string then any changes to B will not reflect in A"
   ]
  },
  {
   "cell_type": "code",
   "execution_count": null,
   "metadata": {},
   "outputs": [],
   "source": [
    "#Strings and Integers\n",
    "c = 'sf'\n",
    "d = c \n",
    "c = 'lt'\n",
    "\n",
    "print(c)\n",
    "\n",
    "print(d)"
   ]
  },
  {
   "cell_type": "code",
   "execution_count": null,
   "metadata": {},
   "outputs": [],
   "source": [
    "jello = [0,1,2,3,4,5] #list\n",
    "donut = jello \n",
    "donut[1] = 10\n",
    "print('donut : ', donut)\n",
    "print('jello : ',jello)\n",
    "\n",
    "## Value is passed as reference so any cahnge in the referenced value will reflect all variable referencing it\n",
    "\n",
    "def bake(jello):\n",
    "    jello.sort()\n",
    "\n",
    "bake(jello)\n",
    "print('donut  after bake: ', donut)"
   ]
  },
  {
   "cell_type": "markdown",
   "metadata": {},
   "source": [
    "# Deepcopy() and Copy()\n",
    "But we may not want the argument given to function to alter our values everytime.\n",
    "Python provides a module named copy that provides both the copy() and deepcopy() functions. The first of these, copy.copy(), can be used to make a duplicate copy of a mutable value like a list or dictionary, not just a copy of a reference."
   ]
  },
  {
   "cell_type": "code",
   "execution_count": null,
   "metadata": {},
   "outputs": [],
   "source": [
    "#copy is shallow copy which does not copy reference but the value which mean you have your own copy of values of "
   ]
  }
 ],
 "metadata": {
  "kernelspec": {
   "display_name": "Python 3",
   "language": "python",
   "name": "python3"
  },
  "language_info": {
   "codemirror_mode": {
    "name": "ipython",
    "version": 3
   },
   "file_extension": ".py",
   "mimetype": "text/x-python",
   "name": "python",
   "nbconvert_exporter": "python",
   "pygments_lexer": "ipython3",
   "version": "3.6.5"
  }
 },
 "nbformat": 4,
 "nbformat_minor": 2
}
