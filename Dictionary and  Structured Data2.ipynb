{
 "cells": [
  {
   "cell_type": "markdown",
   "metadata": {},
   "source": [
    "# Methods : Keys, Values and Items\n",
    "\n",
    "keys()  - return keys\n",
    "values()- return values\n",
    "items() - reutrn key value pair tuple"
   ]
  },
  {
   "cell_type": "code",
   "execution_count": 23,
   "metadata": {
    "scrolled": true
   },
   "outputs": [
    {
     "name": "stdout",
     "output_type": "stream",
     "text": [
      "GUNS\t\t\tRating \n",
      "Mozambique\t\t2\n",
      "R99\t\t4\n",
      "R301\t\t5\n",
      "Longbow\t\t4\n",
      "4\t\tG30\n"
     ]
    }
   ],
   "source": [
    "dic ={'Mozambique':2,'R99':4,'R301':5,'Longbow':4, 4:'G30'}\n",
    "print('GUNS\\t\\t\\tRating ')\n",
    "\n",
    "for k,v in dic.items():\n",
    "    print('{}\\t\\t{}'.format(k,v))"
   ]
  },
  {
   "cell_type": "code",
   "execution_count": 24,
   "metadata": {
    "scrolled": true
   },
   "outputs": [
    {
     "name": "stdout",
     "output_type": "stream",
     "text": [
      "Keys : Mozambique\n",
      "Keys are returned as its type: <class 'str'>\n",
      "Keys : R99\n",
      "Keys are returned as its type: <class 'str'>\n",
      "Keys : R301\n",
      "Keys are returned as its type: <class 'str'>\n",
      "Keys : Longbow\n",
      "Keys are returned as its type: <class 'str'>\n",
      "Keys : 4\n",
      "Keys are returned as its type: <class 'int'>\n",
      "Values : 2\n",
      "Values is returned as its type : <class 'int'>\n",
      "Values : 4\n",
      "Values is returned as its type : <class 'int'>\n",
      "Values : 5\n",
      "Values is returned as its type : <class 'int'>\n",
      "Values : 4\n",
      "Values is returned as its type : <class 'int'>\n",
      "Values : G30\n",
      "Values is returned as its type : <class 'str'>\n",
      "Items : ('Mozambique', 2)\n",
      "Items is returned as Tuple : <class 'tuple'>\n",
      "Items : ('R99', 4)\n",
      "Items is returned as Tuple : <class 'tuple'>\n",
      "Items : ('R301', 5)\n",
      "Items is returned as Tuple : <class 'tuple'>\n",
      "Items : ('Longbow', 4)\n",
      "Items is returned as Tuple : <class 'tuple'>\n",
      "Items : (4, 'G30')\n",
      "Items is returned as Tuple : <class 'tuple'>\n"
     ]
    }
   ],
   "source": [
    "for i in dic.keys():\n",
    "    print('Keys : {}'.format(i))\n",
    "    print('Keys are returned as its type: {}'.format(type(i)))\n",
    "for i in dic.values():\n",
    "    print('Values : {}'.format(i))\n",
    "    print('Values is returned as its type : {}'.format(type(i)))\n",
    "\n",
    "for i in dic.items():\n",
    "    print('Items : {}'.format(i))\n",
    "    print('Items is returned as Tuple : {}'.format(type(i)))"
   ]
  },
  {
   "cell_type": "markdown",
   "metadata": {},
   "source": [
    "get() - dictionaries have a get() method that takes two arguments: the key of the value to retrieve and a fallback value to return if that key does not exist."
   ]
  },
  {
   "cell_type": "code",
   "execution_count": 28,
   "metadata": {},
   "outputs": [
    {
     "name": "stdout",
     "output_type": "stream",
     "text": [
      "I am bringing 2 cups.\n",
      "I am bringing 0 eggs.\n",
      "Note : eggs does not exist in dictionary\n"
     ]
    }
   ],
   "source": [
    " picnicItems = {'apples': 5, 'cups': 2}\n",
    "print('I am bringing ' + str(picnicItems.get('cups', 0)) + ' cups.')\n",
    "\n",
    "print('I am bringing ' + str(picnicItems.get('eggs', 0)) + ' eggs.')\n",
    "print('Note : eggs does not exist in dictionary')"
   ]
  },
  {
   "cell_type": "markdown",
   "metadata": {},
   "source": [
    "setdefault() - "
   ]
  },
  {
   "cell_type": "code",
   "execution_count": 36,
   "metadata": {},
   "outputs": [
    {
     "name": "stdout",
     "output_type": "stream",
     "text": [
      "{'I': 1, 't': 6, ' ': 13, 'w': 2, 'a': 4, 's': 3, 'b': 1, 'r': 5, 'i': 6, 'g': 2, 'h': 3, 'c': 3, 'o': 2, 'l': 3, 'd': 3, 'y': 1, 'n': 4, 'A': 1, 'p': 1, ',': 1, 'e': 5, 'k': 2, '.': 1}\n"
     ]
    }
   ],
   "source": [
    "message = 'It was a bright cold day in April, and the clocks were striking thirteen.'\n",
    "count = {}\n",
    "\n",
    "for character in message:\n",
    "    count.setdefault(character, 0)\n",
    "    #print(count[character])\n",
    "    count[character] = count[character] + 1\n",
    "\n",
    "print(count)"
   ]
  },
  {
   "cell_type": "code",
   "execution_count": null,
   "metadata": {},
   "outputs": [],
   "source": []
  },
  {
   "cell_type": "code",
   "execution_count": null,
   "metadata": {},
   "outputs": [],
   "source": []
  },
  {
   "cell_type": "code",
   "execution_count": null,
   "metadata": {},
   "outputs": [],
   "source": []
  },
  {
   "cell_type": "code",
   "execution_count": null,
   "metadata": {},
   "outputs": [],
   "source": []
  },
  {
   "cell_type": "code",
   "execution_count": null,
   "metadata": {},
   "outputs": [],
   "source": []
  },
  {
   "cell_type": "code",
   "execution_count": null,
   "metadata": {},
   "outputs": [],
   "source": []
  },
  {
   "cell_type": "markdown",
   "metadata": {},
   "source": []
  },
  {
   "cell_type": "code",
   "execution_count": null,
   "metadata": {},
   "outputs": [],
   "source": []
  },
  {
   "cell_type": "code",
   "execution_count": null,
   "metadata": {},
   "outputs": [],
   "source": []
  },
  {
   "cell_type": "code",
   "execution_count": null,
   "metadata": {},
   "outputs": [],
   "source": []
  },
  {
   "cell_type": "code",
   "execution_count": null,
   "metadata": {},
   "outputs": [],
   "source": []
  },
  {
   "cell_type": "code",
   "execution_count": null,
   "metadata": {},
   "outputs": [],
   "source": []
  }
 ],
 "metadata": {
  "kernelspec": {
   "display_name": "Python 3",
   "language": "python",
   "name": "python3"
  },
  "language_info": {
   "codemirror_mode": {
    "name": "ipython",
    "version": 3
   },
   "file_extension": ".py",
   "mimetype": "text/x-python",
   "name": "python",
   "nbconvert_exporter": "python",
   "pygments_lexer": "ipython3",
   "version": "3.6.5"
  }
 },
 "nbformat": 4,
 "nbformat_minor": 2
}
